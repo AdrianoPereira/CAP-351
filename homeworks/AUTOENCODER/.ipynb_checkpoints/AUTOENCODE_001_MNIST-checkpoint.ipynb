{
 "cells": [
  {
   "cell_type": "code",
   "execution_count": 3,
   "metadata": {
    "ExecuteTime": {
     "end_time": "2019-12-31T20:18:24.660442Z",
     "start_time": "2019-12-31T20:18:24.651097Z"
    }
   },
   "outputs": [],
   "source": [
    "import pandas as pd\n",
    "import numpy as np\n",
    "import matplotlib.pyplot as plt\n",
    "from sklearn.model_selection import train_test_split\n",
    "from sklearn.preprocessing import StandardScaler\n",
    "from sklearn.decomposition import PCA\n",
    "from keras.models import Sequential, Model\n",
    "from keras.layers import Dense, Input\n",
    "from keras import utils\n",
    "from keras import regularizers, optimizers\n",
    "\n",
    "from keras.datasets import mnist"
   ]
  },
  {
   "cell_type": "code",
   "execution_count": 131,
   "metadata": {
    "ExecuteTime": {
     "end_time": "2019-12-31T22:17:19.283252Z",
     "start_time": "2019-12-31T22:17:18.880481Z"
    }
   },
   "outputs": [],
   "source": [
    "(X_train, y_train), (X_test, y_test) = mnist.load_data()\n",
    "\n",
    "X_train = X_train.astype('float32') / 255.0\n",
    "X_test = X_test.astype('float32') / 255.0\n",
    "\n",
    "X_train = X_train.reshape((len(X_train), np.prod(X_train.shape[1:])))\n",
    "X_test = X_test.reshape((len(X_test), np.prod(X_test.shape[1:])))"
   ]
  },
  {
   "cell_type": "code",
   "execution_count": 135,
   "metadata": {
    "ExecuteTime": {
     "end_time": "2019-12-31T22:21:01.553036Z",
     "start_time": "2019-12-31T22:19:28.745909Z"
    },
    "scrolled": true
   },
   "outputs": [
    {
     "name": "stdout",
     "output_type": "stream",
     "text": [
      "Train on 60000 samples, validate on 10000 samples\n",
      "Epoch 1/50\n",
      "60000/60000 [==============================] - 2s 34us/step - loss: 0.3768 - val_loss: 0.2989\n",
      "Epoch 2/50\n",
      "60000/60000 [==============================] - 2s 30us/step - loss: 0.2702 - val_loss: 0.2377\n",
      "Epoch 3/50\n",
      "60000/60000 [==============================] - 2s 30us/step - loss: 0.2296 - val_loss: 0.2184\n",
      "Epoch 4/50\n",
      "60000/60000 [==============================] - 2s 32us/step - loss: 0.2142 - val_loss: 0.2034\n",
      "Epoch 5/50\n",
      "60000/60000 [==============================] - 2s 31us/step - loss: 0.1981 - val_loss: 0.1905\n",
      "Epoch 6/50\n",
      "60000/60000 [==============================] - 2s 30us/step - loss: 0.1900 - val_loss: 0.1842\n",
      "Epoch 7/50\n",
      "60000/60000 [==============================] - 2s 30us/step - loss: 0.1835 - val_loss: 0.1783\n",
      "Epoch 8/50\n",
      "60000/60000 [==============================] - 2s 30us/step - loss: 0.1791 - val_loss: 0.1743\n",
      "Epoch 9/50\n",
      "60000/60000 [==============================] - 2s 30us/step - loss: 0.1747 - val_loss: 0.1688\n",
      "Epoch 10/50\n",
      "60000/60000 [==============================] - 2s 31us/step - loss: 0.1709 - val_loss: 0.1669\n",
      "Epoch 11/50\n",
      "60000/60000 [==============================] - 2s 30us/step - loss: 0.1680 - val_loss: 0.1636\n",
      "Epoch 12/50\n",
      "60000/60000 [==============================] - 2s 30us/step - loss: 0.1662 - val_loss: 0.1624\n",
      "Epoch 13/50\n",
      "60000/60000 [==============================] - 2s 31us/step - loss: 0.1642 - val_loss: 0.1604\n",
      "Epoch 14/50\n",
      "60000/60000 [==============================] - 2s 30us/step - loss: 0.1626 - val_loss: 0.1586\n",
      "Epoch 15/50\n",
      "60000/60000 [==============================] - 2s 30us/step - loss: 0.1612 - val_loss: 0.1557\n",
      "Epoch 16/50\n",
      "60000/60000 [==============================] - 2s 30us/step - loss: 0.1584 - val_loss: 0.1552\n",
      "Epoch 17/50\n",
      "60000/60000 [==============================] - 2s 30us/step - loss: 0.1572 - val_loss: 0.1545\n",
      "Epoch 18/50\n",
      "60000/60000 [==============================] - 2s 33us/step - loss: 0.1563 - val_loss: 0.1536\n",
      "Epoch 19/50\n",
      "60000/60000 [==============================] - 2s 32us/step - loss: 0.1557 - val_loss: 0.1519\n",
      "Epoch 20/50\n",
      "60000/60000 [==============================] - 2s 31us/step - loss: 0.1548 - val_loss: 0.1578\n",
      "Epoch 21/50\n",
      "60000/60000 [==============================] - 2s 30us/step - loss: 0.1544 - val_loss: 0.1508\n",
      "Epoch 22/50\n",
      "60000/60000 [==============================] - 2s 31us/step - loss: 0.1536 - val_loss: 0.1533\n",
      "Epoch 23/50\n",
      "60000/60000 [==============================] - 2s 31us/step - loss: 0.1534 - val_loss: 0.1499\n",
      "Epoch 24/50\n",
      "60000/60000 [==============================] - 2s 31us/step - loss: 0.1532 - val_loss: 0.1505\n",
      "Epoch 25/50\n",
      "60000/60000 [==============================] - 2s 30us/step - loss: 0.1526 - val_loss: 0.1500\n",
      "Epoch 26/50\n",
      "60000/60000 [==============================] - 2s 30us/step - loss: 0.1523 - val_loss: 0.1493\n",
      "Epoch 27/50\n",
      "60000/60000 [==============================] - 2s 31us/step - loss: 0.1523 - val_loss: 0.1504\n",
      "Epoch 28/50\n",
      "60000/60000 [==============================] - 2s 31us/step - loss: 0.1522 - val_loss: 0.1486\n",
      "Epoch 29/50\n",
      "60000/60000 [==============================] - 2s 31us/step - loss: 0.1515 - val_loss: 0.1491\n",
      "Epoch 30/50\n",
      "60000/60000 [==============================] - 2s 31us/step - loss: 0.1516 - val_loss: 0.1482\n",
      "Epoch 31/50\n",
      "60000/60000 [==============================] - 2s 30us/step - loss: 0.1512 - val_loss: 0.1492\n",
      "Epoch 32/50\n",
      "60000/60000 [==============================] - 2s 32us/step - loss: 0.1514 - val_loss: 0.1481\n",
      "Epoch 33/50\n",
      "60000/60000 [==============================] - 2s 30us/step - loss: 0.1513 - val_loss: 0.1481\n",
      "Epoch 34/50\n",
      "60000/60000 [==============================] - 2s 30us/step - loss: 0.1509 - val_loss: 0.1479\n",
      "Epoch 35/50\n",
      "60000/60000 [==============================] - 2s 30us/step - loss: 0.1506 - val_loss: 0.1480\n",
      "Epoch 36/50\n",
      "60000/60000 [==============================] - 2s 31us/step - loss: 0.1509 - val_loss: 0.1479\n",
      "Epoch 37/50\n",
      "60000/60000 [==============================] - 2s 30us/step - loss: 0.1507 - val_loss: 0.1479\n",
      "Epoch 38/50\n",
      "60000/60000 [==============================] - 2s 30us/step - loss: 0.1504 - val_loss: 0.1480\n",
      "Epoch 39/50\n",
      "60000/60000 [==============================] - 2s 30us/step - loss: 0.1507 - val_loss: 0.1490\n",
      "Epoch 40/50\n",
      "60000/60000 [==============================] - 2s 30us/step - loss: 0.1504 - val_loss: 0.1478\n",
      "Epoch 41/50\n",
      "60000/60000 [==============================] - 2s 30us/step - loss: 0.1515 - val_loss: 0.1479\n",
      "Epoch 42/50\n",
      "60000/60000 [==============================] - 2s 30us/step - loss: 0.1505 - val_loss: 0.1474\n",
      "Epoch 43/50\n",
      "60000/60000 [==============================] - 2s 31us/step - loss: 0.1507 - val_loss: 0.1488\n",
      "Epoch 44/50\n",
      "60000/60000 [==============================] - 2s 33us/step - loss: 0.1507 - val_loss: 0.1470\n",
      "Epoch 45/50\n",
      "60000/60000 [==============================] - 2s 31us/step - loss: 0.1501 - val_loss: 0.1475\n",
      "Epoch 46/50\n",
      "60000/60000 [==============================] - 2s 31us/step - loss: 0.1500 - val_loss: 0.1484\n",
      "Epoch 47/50\n",
      "60000/60000 [==============================] - 2s 30us/step - loss: 0.1505 - val_loss: 0.1472\n",
      "Epoch 48/50\n",
      "60000/60000 [==============================] - 2s 31us/step - loss: 0.1497 - val_loss: 0.1464\n",
      "Epoch 49/50\n",
      "60000/60000 [==============================] - 2s 31us/step - loss: 0.1502 - val_loss: 0.1465\n",
      "Epoch 50/50\n",
      "60000/60000 [==============================] - 2s 30us/step - loss: 0.1500 - val_loss: 0.1479\n"
     ]
    }
   ],
   "source": [
    "input_dim = X_train.shape[1]\n",
    "encoding_dim = 32\n",
    "\n",
    "autoencoder = Sequential()\n",
    "\n",
    "#encoder\n",
    "autoencoder.add(Dense(encoding_dim, input_shape=(input_dim,), activation='relu'))\n",
    "\n",
    "#decoder\n",
    "autoencoder.add(Dense(input_dim, activation='relu'))\n",
    "\n",
    "input_img = Input(shape=(input_dim,))\n",
    "encoder_layer = autoencoder.layers[0]\n",
    "encoder = Model(input_img, encoder_layer(input_img))\n",
    "\n",
    "autoencoder.compile(optimizer='adadelta', loss='binary_crossentropy')\n",
    "history = autoencoder.fit(X_train, X_train,\n",
    "                epochs=50,\n",
    "                batch_size=256,\n",
    "                shuffle=True,\n",
    "                validation_data=(X_test, X_test))"
   ]
  },
  {
   "cell_type": "code",
   "execution_count": 139,
   "metadata": {
    "ExecuteTime": {
     "end_time": "2019-12-31T22:24:02.738087Z",
     "start_time": "2019-12-31T22:24:00.738290Z"
    }
   },
   "outputs": [
    {
     "data": {
      "image/png": "[encoded data removed]",
      "text/plain": [
       "<Figure size 1584x504 with 30 Axes>"
      ]
     },
     "metadata": {
      "needs_background": "light"
     },
     "output_type": "display_data"
    }
   ],
   "source": [
    "encoded_imgs = encoder.predict(X_test)\n",
    "decoded_imgs = autoencoder.predict(X_test)\n",
    "\n",
    "fig, ax = plt.subplots(3, 10, figsize=(22, 7))\n",
    "\n",
    "for i in range(10):\n",
    "    ax[0][i].imshow(X_test[i].reshape(28, 28))\n",
    "    ax[0][i].set_title('%d original'%(y_test[i]))\n",
    "    ax[0][i].get_xaxis().set_visible(False)\n",
    "    ax[0][i].get_yaxis().set_visible(False)\n",
    "    \n",
    "    ax[1][i].imshow(encoded_imgs[i].reshape(8, 4))\n",
    "    ax[1][i].set_title('%d codificado'%(y_test[i]))\n",
    "    ax[1][i].get_xaxis().set_visible(False)\n",
    "    ax[1][i].get_yaxis().set_visible(False)\n",
    "\n",
    "    ax[2][i].imshow(decoded_imgs[i].reshape(28, 28))\n",
    "    ax[2][i].set_title('%d reconstruído'%(y_test[i]))\n",
    "    ax[2][i].get_xaxis().set_visible(False)\n",
    "    ax[2][i].get_yaxis().set_visible(False)\n",
    "\n",
    "plt.savefig('results/mnist_plot_el1_dl1.pdf', dpi=100, bbox_inches='tight', \n",
    "            transparent=False, pad_inches=0.1)"
   ]
  },
  {
   "cell_type": "code",
   "execution_count": 141,
   "metadata": {
    "ExecuteTime": {
     "end_time": "2019-12-31T22:24:11.502617Z",
     "start_time": "2019-12-31T22:24:10.965754Z"
    }
   },
   "outputs": [
    {
     "data": {
      "image/png": "[encoded data removed]",
      "text/plain": [
       "<Figure size 1440x288 with 2 Axes>"
      ]
     },
     "metadata": {
      "needs_background": "light"
     },
     "output_type": "display_data"
    }
   ],
   "source": [
    "fig, ax = plt.subplots(1, 2, figsize=(20, 4))\n",
    "loss = history.history['loss']\n",
    "val_loss = history.history['val_loss']\n",
    "\n",
    "ax[0].plot(loss)\n",
    "ax[0].set_ylabel('binary_crossentropy')\n",
    "ax[0].set_xlabel('Época')\n",
    "ax[0].set_title('Loss treinamento')\n",
    "\n",
    "ax[1].set_title('Loss validação')\n",
    "ax[1].plot(val_loss)\n",
    "ax[1].set_ylabel('binary_crossentropy')\n",
    "ax[1].set_xlabel('Época')\n",
    "\n",
    "plt.savefig('results/mnist_loss_el1_dl1.pdf', dpi=100, bbox_inches='tight', transparent=False, pad_inches=0.1)"
   ]
  },
  {
   "cell_type": "code",
   "execution_count": null,
   "metadata": {},
   "outputs": [],
   "source": []
  },
  {
   "cell_type": "code",
   "execution_count": null,
   "metadata": {},
   "outputs": [],
   "source": [
    "input_dim = X_train.shape[1]\n",
    "encoding_dim = 32\n",
    "\n",
    "autoencoder = Sequential()\n",
    "\n",
    "#encoder\n",
    "autoencoder.add(Dense(encoding_dim*2, input_shape=(input_dim,), activation='relu'))\n",
    "autoencoder.add(Dense(encoding_dim, activation='relu'))\n",
    "\n",
    "#decoder\n",
    "autoencoder.add(Dense(encoding_dim*2, activation='relu'))\n",
    "autoencoder.add(Dense(input_dim, activation='sigmoid'))\n",
    "\n",
    "input_img = Input(shape=(input_dim,))\n",
    "encoder_layer = autoencoder.layers[0]\n",
    "encoder = Model(input_img, encoder_layer(input_img))\n",
    "\n",
    "autoencoder.compile(optimizer='adadelta', loss='binary_crossentropy')\n",
    "history = autoencoder.fit(X_train, X_train,\n",
    "                epochs=50,\n",
    "                batch_size=256,\n",
    "                shuffle=True,\n",
    "                validation_data=(X_test, X_test))"
   ]
  },
  {
   "cell_type": "code",
   "execution_count": null,
   "metadata": {},
   "outputs": [],
   "source": [
    "encoded_imgs = encoder.predict(X_test)\n",
    "decoded_imgs = autoencoder.predict(X_test)\n",
    "\n",
    "fig, ax = plt.subplots(3, 10, figsize=(22, 7))\n",
    "\n",
    "for i in range(10):\n",
    "    ax[0][i].imshow(X_test[i].reshape(28, 28))\n",
    "    ax[0][i].set_title('%d original'%(y_test[i]))\n",
    "    ax[0][i].get_xaxis().set_visible(False)\n",
    "    ax[0][i].get_yaxis().set_visible(False)\n",
    "    \n",
    "    ax[1][i].imshow(encoded_imgs[i].reshape(8, 4))\n",
    "    ax[1][i].set_title('%d codificado'%(y_test[i]))\n",
    "    ax[1][i].get_xaxis().set_visible(False)\n",
    "    ax[1][i].get_yaxis().set_visible(False)\n",
    "\n",
    "    ax[2][i].imshow(decoded_imgs[i].reshape(28, 28))\n",
    "    ax[2][i].set_title('%d reconstruído'%(y_test[i]))\n",
    "    ax[2][i].get_xaxis().set_visible(False)\n",
    "    ax[2][i].get_yaxis().set_visible(False)\n",
    "\n",
    "plt.savefig('results/mnist_plot_el2_dl2.pdf', dpi=100, bbox_inches='tight', \n",
    "            transparent=False, pad_inches=0.1)\n",
    "\n",
    "fig, ax = plt.subplots(1, 2, figsize=(20, 4))\n",
    "loss = history.history['loss']\n",
    "val_loss = history.history['val_loss']\n",
    "\n",
    "ax[0].plot(loss)\n",
    "ax[0].set_ylabel('binary_crossentropy')\n",
    "ax[0].set_xlabel('Época')\n",
    "ax[0].set_title('Loss treinamento')\n",
    "\n",
    "ax[1].set_title('Loss validação')\n",
    "ax[1].plot(val_loss)\n",
    "ax[1].set_ylabel('binary_crossentropy')\n",
    "ax[1].set_xlabel('Época')\n",
    "\n",
    "plt.savefig('results/mnist_loss_el2_dl2.pdf', dpi=100, bbox_inches='tight', transparent=False, pad_inches=0.1)"
   ]
  },
  {
   "cell_type": "code",
   "execution_count": null,
   "metadata": {},
   "outputs": [],
   "source": []
  },
  {
   "cell_type": "code",
   "execution_count": null,
   "metadata": {},
   "outputs": [],
   "source": []
  },
  {
   "cell_type": "code",
   "execution_count": null,
   "metadata": {},
   "outputs": [],
   "source": []
  },
  {
   "cell_type": "code",
   "execution_count": null,
   "metadata": {},
   "outputs": [],
   "source": []
  },
  {
   "cell_type": "code",
   "execution_count": null,
   "metadata": {},
   "outputs": [],
   "source": []
  }
 ],
 "metadata": {
  "kernelspec": {
   "display_name": "Python 3",
   "language": "python",
   "name": "python3"
  },
  "language_info": {
   "codemirror_mode": {
    "name": "ipython",
    "version": 3
   },
   "file_extension": ".py",
   "mimetype": "text/x-python",
   "name": "python",
   "nbconvert_exporter": "python",
   "pygments_lexer": "ipython3",
   "version": "3.7.3"
  }
 },
 "nbformat": 4,
 "nbformat_minor": 2
}
